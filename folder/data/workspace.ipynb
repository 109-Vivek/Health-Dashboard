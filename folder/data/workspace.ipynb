{
 "cells": [
  {
   "cell_type": "code",
   "execution_count": 2,
   "metadata": {},
   "outputs": [],
   "source": [
    "dis = open('diseases.lst', 'r')\n",
    "d_map_m = open('disease_medicines.map', 'r')\n",
    "d_map_s = open('disease_symptoms.map', 'r')\n",
    "\n",
    "\n"
   ]
  },
  {
   "cell_type": "code",
   "execution_count": 1,
   "metadata": {},
   "outputs": [],
   "source": [
    "import pandas as pd\n",
    "import numpy as np\n"
   ]
  },
  {
   "cell_type": "code",
   "execution_count": 2,
   "metadata": {},
   "outputs": [
    {
     "data": {
      "text/html": [
       "<div>\n",
       "<style scoped>\n",
       "    .dataframe tbody tr th:only-of-type {\n",
       "        vertical-align: middle;\n",
       "    }\n",
       "\n",
       "    .dataframe tbody tr th {\n",
       "        vertical-align: top;\n",
       "    }\n",
       "\n",
       "    .dataframe thead th {\n",
       "        text-align: right;\n",
       "    }\n",
       "</style>\n",
       "<table border=\"1\" class=\"dataframe\">\n",
       "  <thead>\n",
       "    <tr style=\"text-align: right;\">\n",
       "      <th></th>\n",
       "      <th>Disease</th>\n",
       "      <th>Symptoms</th>\n",
       "      <th>Medicines</th>\n",
       "    </tr>\n",
       "  </thead>\n",
       "  <tbody>\n",
       "    <tr>\n",
       "      <th>0</th>\n",
       "      <td>Influenza</td>\n",
       "      <td>Fever, Cough, Sore throat, Fatigue, Body aches</td>\n",
       "      <td>Oseltamivir (Tamiflu), Acetaminophen, Ibuprofen</td>\n",
       "    </tr>\n",
       "    <tr>\n",
       "      <th>1</th>\n",
       "      <td>Hypertension (High Blood Pressure)</td>\n",
       "      <td>Headaches, Dizziness, Chest pain, Shortness of...</td>\n",
       "      <td>Lisinopril, Amlodipine, Hydrochlorothiazide</td>\n",
       "    </tr>\n",
       "    <tr>\n",
       "      <th>2</th>\n",
       "      <td>Type 2 Diabetes</td>\n",
       "      <td>Excessive thirst, Frequent urination, Fatigue,...</td>\n",
       "      <td>Metformin, Insulin, Glipizide</td>\n",
       "    </tr>\n",
       "    <tr>\n",
       "      <th>3</th>\n",
       "      <td>Allergic Rhinitis (Hay Fever)</td>\n",
       "      <td>Sneezing, Runny or stuffy nose, Itchy or water...</td>\n",
       "      <td>Loratadine, Cetirizine, Fluticasone nasal spray</td>\n",
       "    </tr>\n",
       "    <tr>\n",
       "      <th>4</th>\n",
       "      <td>Gastroenteritis</td>\n",
       "      <td>Diarrhea, Vomiting, Abdominal pain, Nausea, Fever</td>\n",
       "      <td>Oral rehydration solution (ORS), Loperamide, O...</td>\n",
       "    </tr>\n",
       "    <tr>\n",
       "      <th>...</th>\n",
       "      <td>...</td>\n",
       "      <td>...</td>\n",
       "      <td>...</td>\n",
       "    </tr>\n",
       "    <tr>\n",
       "      <th>102</th>\n",
       "      <td>Inflammatory Bowel Disease (IBD)</td>\n",
       "      <td>Abdominal pain, Diarrhea, Blood in the stool, ...</td>\n",
       "      <td>Anti-inflammatory drugs (e.g., Mesalamine, Cor...</td>\n",
       "    </tr>\n",
       "    <tr>\n",
       "      <th>103</th>\n",
       "      <td>Interstitial Cystitis (Painful Bladder Syndrome)</td>\n",
       "      <td>Frequent urination, Pelvic pain, Urgency, Pain...</td>\n",
       "      <td>Oral medications (e.g., Pentosan polysulfate s...</td>\n",
       "    </tr>\n",
       "    <tr>\n",
       "      <th>104</th>\n",
       "      <td>Parkinson's Disease</td>\n",
       "      <td>Tremors, Bradykinesia (slowness of movement), ...</td>\n",
       "      <td>Levodopa, Dopamine agonists, Anticholinergics</td>\n",
       "    </tr>\n",
       "    <tr>\n",
       "      <th>105</th>\n",
       "      <td>Hemorrhagic Stroke</td>\n",
       "      <td>Sudden severe headache, Nausea and vomiting, W...</td>\n",
       "      <td>Emergency medical care, Surgery (for aneurysms...</td>\n",
       "    </tr>\n",
       "    <tr>\n",
       "      <th>106</th>\n",
       "      <td>Asperger's Syndrome</td>\n",
       "      <td>Difficulty with social interaction, Narrow int...</td>\n",
       "      <td>Behavioral therapy, Social skills training</td>\n",
       "    </tr>\n",
       "  </tbody>\n",
       "</table>\n",
       "<p>107 rows × 3 columns</p>\n",
       "</div>"
      ],
      "text/plain": [
       "                                              Disease  \\\n",
       "0                                           Influenza   \n",
       "1                  Hypertension (High Blood Pressure)   \n",
       "2                                     Type 2 Diabetes   \n",
       "3                       Allergic Rhinitis (Hay Fever)   \n",
       "4                                     Gastroenteritis   \n",
       "..                                                ...   \n",
       "102                  Inflammatory Bowel Disease (IBD)   \n",
       "103  Interstitial Cystitis (Painful Bladder Syndrome)   \n",
       "104                               Parkinson's Disease   \n",
       "105                                Hemorrhagic Stroke   \n",
       "106                               Asperger's Syndrome   \n",
       "\n",
       "                                              Symptoms  \\\n",
       "0       Fever, Cough, Sore throat, Fatigue, Body aches   \n",
       "1    Headaches, Dizziness, Chest pain, Shortness of...   \n",
       "2    Excessive thirst, Frequent urination, Fatigue,...   \n",
       "3    Sneezing, Runny or stuffy nose, Itchy or water...   \n",
       "4    Diarrhea, Vomiting, Abdominal pain, Nausea, Fever   \n",
       "..                                                 ...   \n",
       "102  Abdominal pain, Diarrhea, Blood in the stool, ...   \n",
       "103  Frequent urination, Pelvic pain, Urgency, Pain...   \n",
       "104  Tremors, Bradykinesia (slowness of movement), ...   \n",
       "105  Sudden severe headache, Nausea and vomiting, W...   \n",
       "106  Difficulty with social interaction, Narrow int...   \n",
       "\n",
       "                                             Medicines  \n",
       "0      Oseltamivir (Tamiflu), Acetaminophen, Ibuprofen  \n",
       "1          Lisinopril, Amlodipine, Hydrochlorothiazide  \n",
       "2                        Metformin, Insulin, Glipizide  \n",
       "3      Loratadine, Cetirizine, Fluticasone nasal spray  \n",
       "4    Oral rehydration solution (ORS), Loperamide, O...  \n",
       "..                                                 ...  \n",
       "102  Anti-inflammatory drugs (e.g., Mesalamine, Cor...  \n",
       "103  Oral medications (e.g., Pentosan polysulfate s...  \n",
       "104      Levodopa, Dopamine agonists, Anticholinergics  \n",
       "105  Emergency medical care, Surgery (for aneurysms...  \n",
       "106         Behavioral therapy, Social skills training  \n",
       "\n",
       "[107 rows x 3 columns]"
      ]
     },
     "execution_count": 2,
     "metadata": {},
     "output_type": "execute_result"
    }
   ],
   "source": [
    "df = pd.read_csv('data.csv')\n",
    "df"
   ]
  },
  {
   "cell_type": "code",
   "execution_count": 3,
   "metadata": {},
   "outputs": [],
   "source": [
    "def getMeds(disease):\n",
    "    row = df[df['Disease'].str.contains(disease)]\n",
    "\n",
    "    return row['Medicines']"
   ]
  },
  {
   "cell_type": "code",
   "execution_count": 5,
   "metadata": {},
   "outputs": [],
   "source": [
    "li=str(getMeds(disease='Influenza')[0]).split(', ')"
   ]
  },
  {
   "cell_type": "code",
   "execution_count": 7,
   "metadata": {},
   "outputs": [
    {
     "data": {
      "text/plain": [
       "'Oseltamivir (Tamiflu)'"
      ]
     },
     "execution_count": 7,
     "metadata": {},
     "output_type": "execute_result"
    }
   ],
   "source": [
    "li[0]"
   ]
  },
  {
   "cell_type": "code",
   "execution_count": 32,
   "metadata": {},
   "outputs": [],
   "source": [
    "t=df['Disease'].str.contains('Influenza')\n",
    "li=df[df['Medicines'].str.contains('Physical therapy')]"
   ]
  },
  {
   "cell_type": "code",
   "execution_count": 105,
   "metadata": {},
   "outputs": [
    {
     "name": "stdout",
     "output_type": "stream",
     "text": [
      "<class 'int'>\n",
      "[1, 2, 3, 4, 5]\n",
      "<class 'str'>\n",
      "['1', '2', '3', '4', '5']\n"
     ]
    }
   ],
   "source": [
    "# LIST PARSER\n",
    "# IN PROGRESS\n",
    "# TODO\n",
    "\n",
    "\n",
    "import re\n",
    "def parseList(list_as_string):\n",
    "    l=[]\n",
    "    s=list_as_string\n",
    "    # print(s)\n",
    "    s=s.strip('[]')\n",
    "    # type(l)\n",
    "    if(re.match(r\"'\\w+'\", s)==None):\n",
    "        for a in s.split(', '):\n",
    "            l.append(int(a))\n",
    "    else:\n",
    "        for a in s.split(', '):\n",
    "            l.append(a.strip('\\''))\n",
    "    print(type(l[0]))\n",
    "    print(l)\n",
    "\n",
    "parseList(st)\n",
    "parseList(st1)"
   ]
  },
  {
   "cell_type": "code",
   "execution_count": 107,
   "metadata": {},
   "outputs": [
    {
     "name": "stdout",
     "output_type": "stream",
     "text": [
      "<class 'str'>\n",
      "['Hello', 'World', 'Hwo', 'is', 'it', 'going.', 'its', 'been', 'a', 'while']\n"
     ]
    }
   ],
   "source": [
    "text=\"Hello World Hwo is it going. its been a while\"\n",
    "words=text.split(\" \")\n",
    "parseList(str(words))"
   ]
  },
  {
   "cell_type": "code",
   "execution_count": null,
   "metadata": {},
   "outputs": [],
   "source": []
  },
  {
   "cell_type": "code",
   "execution_count": null,
   "metadata": {},
   "outputs": [],
   "source": []
  },
  {
   "cell_type": "code",
   "execution_count": 109,
   "metadata": {},
   "outputs": [],
   "source": [
    "l = ['Fever', 'Cough', 'Diarrhea']\n"
   ]
  },
  {
   "cell_type": "code",
   "execution_count": 111,
   "metadata": {},
   "outputs": [
    {
     "data": {
      "text/plain": [
       "['Fever', 'Cough', 'Diarrhea']"
      ]
     },
     "execution_count": 111,
     "metadata": {},
     "output_type": "execute_result"
    }
   ],
   "source": [
    "l"
   ]
  },
  {
   "cell_type": "code",
   "execution_count": 116,
   "metadata": {},
   "outputs": [],
   "source": [
    "s=''\n",
    "for a in l:\n",
    "    s=s+a+'|'"
   ]
  },
  {
   "cell_type": "code",
   "execution_count": 117,
   "metadata": {},
   "outputs": [
    {
     "data": {
      "text/plain": [
       "'Fever|Cough|Diarrhea|'"
      ]
     },
     "execution_count": 117,
     "metadata": {},
     "output_type": "execute_result"
    }
   ],
   "source": [
    "s"
   ]
  },
  {
   "cell_type": "code",
   "execution_count": 119,
   "metadata": {},
   "outputs": [
    {
     "data": {
      "text/plain": [
       "['Fever', 'Cough', 'Diarrhea']"
      ]
     },
     "execution_count": 119,
     "metadata": {},
     "output_type": "execute_result"
    }
   ],
   "source": [
    "s.strip('|').split('|')"
   ]
  },
  {
   "cell_type": "code",
   "execution_count": 178,
   "metadata": {},
   "outputs": [],
   "source": [
    "dss = open('diseases.lst', 'r')\n",
    "meds = open('medicines.lst', 'r')\n",
    "symp = open('symptoms.lst', 'r')\n",
    "dmmap = open('disease_medicines.map', 'r')\n",
    "dsmap = open('disease_symptoms.map', 'r')\n"
   ]
  },
  {
   "cell_type": "code",
   "execution_count": 179,
   "metadata": {},
   "outputs": [],
   "source": [
    "m=meds.readlines()\n",
    "s=symp.readlines()\n",
    "d=dss.readlines()"
   ]
  },
  {
   "cell_type": "code",
   "execution_count": 180,
   "metadata": {},
   "outputs": [],
   "source": [
    "dm=dmmap.readlines()\n",
    "ds=dsmap.readlines()"
   ]
  },
  {
   "cell_type": "code",
   "execution_count": 187,
   "metadata": {},
   "outputs": [
    {
     "data": {
      "text/plain": [
       "281"
      ]
     },
     "execution_count": 187,
     "metadata": {},
     "output_type": "execute_result"
    }
   ],
   "source": [
    "len(s)"
   ]
  },
  {
   "cell_type": "code",
   "execution_count": 194,
   "metadata": {},
   "outputs": [],
   "source": [
    "newlistsymptoms=[]\n",
    "for i in range(len(ds)):\n",
    "    listofsymptoms=ds[i].strip('\\n').strip('[]').split(', ')\n",
    "    los = listofsymptoms\n",
    "\n",
    "    data=''\n",
    "    for idx in los:\n",
    "        data=data+s[int(idx)-1].strip('\\n')+'|'\n",
    "    \n",
    "    newlistsymptoms.append('\"'+data.strip('|')+'\"')"
   ]
  },
  {
   "cell_type": "code",
   "execution_count": 196,
   "metadata": {},
   "outputs": [
    {
     "name": "stdout",
     "output_type": "stream",
     "text": [
      "['\"Fever|Cough|Sore throat|Fatigue|Body aches\"', '\"Headaches|Dizziness|Chest pain|Shortness of breath|Vision problems\"', '\"Excessive thirst|Frequent urination|Fatigue|Blurred vision|Slow wound healing\"', '\"Sneezing|Runny or stuffy nose|Itchy or watery eyes|Fatigue|Cough\"', '\"Diarrhea|Vomiting|Abdominal pain|Nausea|Fever\"', '\"Severe headache|Nausea|Sensitivity to light and sound|Visual disturbances (auras)|Vomiting\"', '\"High fever|Cough with mucus|Chest pain|Shortness of breath|Fatigue\"', '\"Wheezing|Shortness of breath|Coughing|Chest tightness|Increased mucus production\"', '\"Painful urination|Frequent urination|Blood in urine|Lower abdominal pain|Urinary urgency\"', '\"Joint pain|Joint stiffness|Decreased range of motion|Swelling in affected joints|Crepitus (grating sensation)\"', '\"Fatigue|Weight gain|Cold intolerance|Dry skin|Depression\"', '\"Joint pain|Joint swelling|Stiffness|Fatigue|Fever\"', '\"Runny or stuffy nose|Sneezing|Cough|Sore throat|Watery eyes\"', '\"Fever|Chills|Sweating|Headache|Fatigue\"', '\"Persistent cough|Chest pain|Shortness of breath|Unintended weight loss|Coughing up blood\"', '\"Excessive thirst|Excessive urination|Dehydration|Fatigue|Confusion\"', '\"Abdominal pain|Diarrhea|Fatigue|Weight loss|Blood in stool\"', '\"Tremors|Bradykinesia (slowness of movement)|Muscle rigidity|Postural instability|Sleep disturbances\"', '\"Memory loss|Confusion|Difficulty in problem-solving|Mood swings|Agitation\"', '\"Abdominal pain|Nausea|Vomiting|Fever|Tenderness in the abdomen\"', '\"Joint pain|Joint swelling|Stiffness|Fatigue|Fever\"', '\"Fatigue|Joint pain|Skin rashes|Photosensitivity|Kidney problems\"', '\"Shortness of breath|Chronic cough|Excess mucus production|Wheezing|Chest tightness\"', '\"Fatigue|Jaundice|Abdominal pain|Loss of appetite|Dark urine\"', '\"Fever|Cough|Shortness of breath|Loss of taste or smell|Muscle aches\"', '\"Fever|Fatigue|Swollen lymph nodes|Weight loss|Opportunistic infections\"', '\"Sudden numbness or weakness|Trouble speaking or understanding speech|Severe headache|Dizziness|Loss of coordination\"', '\"Fatigue|Numbness or tingling|Muscle weakness|Vision problems|Difficulty with coordination\"', '\"Severe pain in the side or back|Blood in urine|Frequent urination|Urinary urgency|Nausea\"', '\"Sudden and severe joint pain|Swelling|Redness|Tenderness in affected joints|Limited joint mobility\"', '\"Seizures|Loss of consciousness|Confusion|Staring spells|Jerking movements\"', '\"Gradual loss of peripheral vision|Tunnel vision|Eye pain|Blurred vision|Halos around lights\"', '\"Abdominal pain|Bloating|Difficulty eating|Frequent urination|Fatigue\"', '\"Breast lump or thickening|Breast pain|Nipple discharge|Skin changes on the breast|Swelling in the armpit\"', '\"Frequent urination|Difficulty urinating|Blood in the urine|Erectile dysfunction|Pain in the pelvis\"', '\"Fatigue|Jaundice|Abdominal pain|Swelling in the abdomen|Easy bruising\"', '\"Bone pain|Fractures|Loss of height|Stooped posture|Bone density test\"', '\"Fatigue|Jaundice|Abdominal pain|Dark urine|Nausea\"', '\"Itchy skin|Rash|Dry and scaly skin|Redness|Swelling\"', '\"Mood swings|Manic episodes|Depressive episodes|Impulsivity|Poor judgment\"', '\"Frequent urination|Difficulty urinating|Weak urine stream|Incomplete bladder emptying|Urgency\"', '\"Abdominal pain|Diarrhea|Bloating|Fatigue|Weight loss\"', '\"Fatigue|Jaundice|Pain crises|Swelling in hands and feet|Frequent infections\"', '\"Vertigo|Tinnitus|Hearing loss|Nausea|Vomiting\"', '\"Red|scaly patches on the skin|Itching|Nail changes|Joint pain|Plaque psoriasis\"', '\"Cough for more than 2 weeks|Chest pain|Weight loss|Fatigue|Night sweats\"', '\"Fatigue|Jaundice|Abdominal pain|Loss of appetite|Dark urine\"', '\"Fever|Headache|Nausea|Muscle weakness|Hallucinations\"', '\"Abdominal pain|Loss of appetite|Nausea|Vomiting|Fever\"', '\"Pelvic pain|Bloating|Lower back pain|Irregular periods|Pain during intercourse\"', '\"Rectal pain|Itching|Bleeding during bowel movements|Swelling|Anal discomfort\"', '\"Vaginal discharge with a fishy odor|Itching|Burning|Grayish-white discharge|Pain during urination\"', '\"Fatigue|Jaundice|Abdominal pain|Loss of appetite|Dark urine\"', '\"Pelvic pain|Pain during menstruation|Pain during intercourse|Heavy menstrual bleeding|Infertility\"', '\"Abdominal pain|Jaundice|Weight loss|Fatigue|Loss of appetite\"', '\"Weight gain|Fatigue|High blood pressure|Moon face|Muscle weakness\"', '\"Joint hypermobility|Skin hyperextensibility|Easy bruising|Chronic pain|Gastrointestinal problems\"', '\"Irregular periods|Excess hair growth|Acne|Weight gain|Ovarian cysts\"', '\"Motor and vocal tics|Repetitive movements or sounds|Involuntary behaviors|Coprolalia (involuntary swearing)|Echolalia (repeating others\\' words)\"', '\"Bull\\'s-eye rash|Fever|Headache|Muscle and joint pain|Fatigue\"', '\"Swelling of the legs and feet|Dark urine|High blood pressure|Kidney inflammation|Proteinuria\"', '\"Dry eyes|Dry mouth|Fatigue|Joint pain|Dry skin\"', '\"Muscle weakness|Muscle atrophy|Difficulty speaking|Difficulty swallowing|Rapid progression\"', '\"High blood sugar during pregnancy|Excessive thirst|Frequent urination|Fatigue|Risk of large birth weight\"', '\"Easy bruising|Excessive bleeding|Joint pain and swelling|Nosebleeds|Blood in urine or stool\"', '\"Hoarseness|Sore throat|Cough|Throat pain|Difficulty swallowing\"', '\"Abdominal pain|Nausea|Vomiting|Jaundice|Bloating\"', '\"Bone pain|Fatigue|Anemia|Frequent infections|Kidney problems\"', '\"Shortness of breath|Chest pain|Rapid heart rate|Coughing up blood|Sweating\"', '\"Significant weight loss|Preoccupation with food and weight|Denial of the severity of low body weight|Social withdrawal|Lanugo (fine body hair)\"', '\"Muscle weakness|Fatigue|Drooping eyelids|Double vision|Difficulty swallowing\"', '\"Hoarseness|Throat pain|Cough|Difficulty swallowing|Ear pain\"', '\"Ear pain|Hearing loss|Fluid drainage from the ear|Fever|Irritability\"', '\"Back pain and stiffness|Pain and inflammation in other joints|Fatigue|Reduced chest expansion|Difficulty breathing\"', '\"Shortness of breath|Fatigue|Chest pain|Rapid heartbeat|Swelling in the legs and ankles\"', '\"Shakiness|Sweating|Confusion|Rapid heartbeat|Fainting\"', '\"Ringing or buzzing in the ears|Hearing loss|Dizziness|Ear fullness|Anxiety\"', '\"High blood pressure during pregnancy|Swelling in the hands and face|Headache|Blurred vision|Proteinuria\"', '\"Binge eating followed by purging behaviors (vomiting, laxatives)|Preoccupation with body shape and weight|Tooth enamel erosion|Electrolyte imbalances|Sore throat\"', '\"Progressive muscle weakness|Frequent falls|Difficulty getting up|Contractures|Respiratory problems\"', '\"Joint pain|Fatigue|Abdominal pain|Skin discoloration|Liver problems\"', '\"Excessive daytime sleepiness|Cataplexy (sudden muscle weakness)|Sleep paralysis|Hallucinations|Fragmented nighttime sleep\"', '\"Fatigue|Jaundice|Abdominal pain|Easy bruising|Fluid retention (ascites)\"', '\"Small testes|Gynecomastia (breast development)|Infertility|Reduced facial and body hair|Tall stature\"', '\"Uncomfortable sensations in the legs|Urge to move the legs|Worsening of symptoms at rest|Sleep disturbances|Itchy or crawly sensations\"', '\"Fatigue|Shortness of breath|Cough|Chest pain|Skin rashes|Enlarged lymph nodes\"', '\"Frequent episodes of overeating|Eating rapidly|Eating until uncomfortably full|Feelings of guilt or shame|Distress about the behavior\"', '\"Fatigue|Enlarged liver|Abdominal discomfort|Elevated liver enzymes|Insulin resistance\"', '\"Fatigue|Weight gain|Cold intolerance|Dry skin|Depression\"', '\"Swollen lymph nodes|Fever|Night sweats|Weight loss|Fatigue\"', '\"Abnormal vaginal bleeding|Pelvic pain|Pain during intercourse|Watery or bloody vaginal discharge|Fatigue\"', '\"Shortness of breath|Dry cough|Fatigue|Weakness|Chest discomfort\"', '\"Social communication challenges|Repetitive behaviors|Delayed speech development|Sensory sensitivities|Difficulty with change\"', '\"Abdominal pain|Fever|Nausea|Changes in bowel habits|Bloating\"', '\"Painful urination|Abnormal genital discharge|Lower abdominal pain|Pain during intercourse|No symptoms (asymptomatic in some cases)\"', '\"Back pain|Leg pain|Numbness or tingling in the legs|Weakness in the legs|Pain worsens with movement\"', '\"Shortness of breath|Chest pain|Heart palpitations|Fatigue|Dizziness\"', '\"Numbness and tingling in the hand|Weakness in the hand|Pain in the wrist and hand|Hand clumsiness|Symptoms worse at night\"', '\"Abdominal pain|Diarrhea|Bloating|Fatigue|Weight loss\"', '\"Fatigue|Jaundice|Pain crises|Swelling in hands and feet|Frequent infections\"', '\"Vertigo|Tinnitus|Hearing loss|Nausea|Vomiting\"', '\"Red|scaly patches on the skin|Itching|Nail changes|Joint pain|Plaque psoriasis\"', '\"Abdominal pain|Diarrhea|Blood in the stool|Weight loss|Fatigue\"', '\"Frequent urination|Pelvic pain|Urgency|Painful urination|Discomfort in the lower abdomen\"', '\"Tremors|Bradykinesia (slowness of movement)|Muscle rigidity|Postural instability|Impaired balance\"', '\"Sudden severe headache|Nausea and vomiting|Weakness|Speech difficulty|Vision changes\"', '\"Difficulty with social interaction|Narrow interests|Repetitive behaviors|Sensory sensitivities|Unusual posture or tone of voice\"']\n"
     ]
    }
   ],
   "source": [
    "print(newlistsymptoms)"
   ]
  },
  {
   "cell_type": "code",
   "execution_count": 197,
   "metadata": {},
   "outputs": [],
   "source": [
    "newlistmedicines=[]\n",
    "for i in range(len(dm)):\n",
    "    listofmedicines=dm[i].strip('\\n').strip('[]').split(', ')\n",
    "    lom = listofmedicines\n",
    "\n",
    "    data1=''\n",
    "    for idx in lom:\n",
    "        data1=data1+m[int(idx)-1].strip('\\n')+'|'\n",
    "    \n",
    "    newlistmedicines.append('\"'+data1.strip('|')+'\"')"
   ]
  },
  {
   "cell_type": "code",
   "execution_count": 200,
   "metadata": {},
   "outputs": [
    {
     "name": "stdout",
     "output_type": "stream",
     "text": [
      "['\"Oseltamivir (Tamiflu)|Acetaminophen|Ibuprofen\"', '\"Lisinopril|Amlodipine|Hydrochlorothiazide\"', '\"Metformin|Insulin|Glipizide\"', '\"Loratadine|Cetirizine|Fluticasone nasal spray\"', '\"Oral rehydration solution (ORS)|Loperamide|Ondansetron\"', '\"Sumatriptan|Ibuprofen|Naproxen\"', '\"Antibiotics (e.g., Amoxicillin)|Acetaminophen|Oxygen therapy (in severe cases)\"', '\"Albuterol inhaler|Inhaled corticosteroids (e.g., Fluticasone)|Montelukast\"', '\"Antibiotics (e.g., Ciprofloxacin)|Phenazopyridine|Drinking plenty of water\"', '\"Acetaminophen|Nonsteroidal anti-inflammatory drugs (e.g., Ibuprofen)|Physical therapy\"', '\"Levothyroxine|Liothyronine\"', '\"Methotrexate|Hydroxychloroquine|Tumor necrosis factor inhibitors\"', '\"Rest|Fluids|Over-the-counter cold medications\"', '\"Antimalarial drugs (e.g., Chloroquine, Artemisinin-based combination therapy)\"', '\"Chemotherapy|Radiation therapy|Targeted therapy\"', '\"Desmopressin\"', '\"Anti-inflammatory drugs|Immunosuppressants\"', '\"Levodopa|Dopamine agonists|Anticholinergic drugs\"', '\"Cholinesterase inhibitors|Memantine\"', '\"Fasting|Intravenous fluids|Pain management\"', '\"Methotrexate|Hydroxychloroquine|Tumor necrosis factor inhibitors\"', '\"Hydroxychloroquine|Corticosteroids|Immunosuppressants\"', '\"Bronchodilators|Inhaled corticosteroids|Oxygen therapy\"', '\"Direct-acting antiviral drugs (e.g., Sofosbuvir, Ledipasvir)\"', '\"Vaccination|Antiviral medication (e.g., Remdesivir)|Symptomatic treatment\"', '\"Antiretroviral therapy (ART)|Prophylactic antibiotics\"', '\"Clot-dissolving drugs|Antiplatelet drugs|Rehabilitation\"', '\"Disease-modifying therapies (e.g., Interferon beta, Fingolimod)\"', '\"Pain relief medication|Fluid intake|Surgical intervention if necessary\"', '\"Nonsteroidal anti-inflammatory drugs (NSAIDs)|Colchicine|Uric acid-lowering medications\"', '\"Antiepileptic drugs (AEDs)|Ketogenic diet|Vagus nerve stimulation (VNS)\"', '\"Eye drops (e.g., Timolol, Dorzolamide)|Oral carbonic anhydrase inhibitors\"', '\"Surgery|Chemotherapy|Radiation therapy\"', '\"Surgery|Radiation therapy|Chemotherapy|Hormone therapy\"', '\"Surgery|Radiation therapy|Hormone therapy|Chemotherapy\"', '\"Lifestyle changes|Medications for symptoms|Liver transplant (in severe cases)\"', '\"Calcium and vitamin D supplements|Bisphosphonates|Hormone therapy\"', '\"Antiviral drugs (e.g., Entecavir, Tenofovir)|Interferon alfa\"', '\"Topical corticosteroids|Emollients|Antihistamines\"', '\"Mood stabilizers (e.g., Lithium, Valproate)|Antipsychotics|Psychotherapy\"', '\"Alpha blockers (e.g., Tamsulosin)|5-alpha reductase inhibitors (e.g., Finasteride)\"', '\"Gluten-free diet|Nutritional supplements (if necessary)\"', '\"Hydroxyurea|Blood transfusions|Pain management\"', '\"Diuretics (e.g., Hydrochlorothiazide)|Anti-nausea medications|Low-sodium diet\"', '\"Topical corticosteroids|Phototherapy|Immune-modulating drugs (e.g., Methotrexate)\"', '\"Antibiotics (e.g., Rifampicin, Isoniazid, Ethambutol)\"', '\"Supportive care|Vaccination (prevention)\"', '\"Post-exposure prophylaxis (PEP)|Rabies vaccine\"', '\"Surgery (appendectomy)|Antibiotics\"', '\"Watchful waiting|Birth control pills|Surgery (in some cases)\"', '\"Topical treatments (e.g., creams, ointments)|Dietary changes|Rubber band ligation\"', '\"Antibiotics (e.g., Metronidazole, Clindamycin)\"', '\"Supportive care|Prevention of waterborne transmission\"', '\"Pain relief medication|Hormonal therapy|Surgery (in severe cases)\"', '\"Surgery|Chemotherapy|Radiation therapy\"', '\"Treatment of the underlying cause|Medication to control symptoms\"', '\"Physical therapy|Pain management|Lifestyle adaptations\"', '\"Hormonal contraceptives|Metformin|Lifestyle changes\"', '\"Behavioral therapy|Medication (e.g., antipsychotics, alpha agonists)\"', '\"Antibiotics (e.g., Doxycycline, Amoxicillin)\"', '\"Immunosuppressants|Steroids|Blood pressure control\"', '\"Artificial tears|Saliva substitutes|Medications to reduce inflammation\"', '\"Supportive care|Riluzole (to slow progression)\"', '\"Dietary changes|Blood sugar monitoring|Insulin (if necessary)\"', '\"Clotting factor replacement therapy|Desmopressin\"', '\"Voice rest|Hydration|Lozenges\"', '\"Surgery (cholecystectomy)|Ursodeoxycholic acid\"', '\"Chemotherapy|Stem cell transplant|Targeted therapy\"', '\"Anticoagulants (e.g., Heparin, Warfarin)|Oxygen therapy\"', '\"Nutritional rehabilitation|Psychotherapy|Medications (in some cases)\"', '\"Immunosuppressants|Cholinesterase inhibitors|Thymectomy\"', '\"Surgery|Radiation therapy|Chemotherapy\"', '\"Antibiotics (e.g., Amoxicillin)|Pain relief medication\"', '\"Nonsteroidal anti-inflammatory drugs (NSAIDs)|Disease-modifying antirheumatic drugs (DMARDs)|Physical therapy\"', '\"Vasodilators|Endothelin receptor antagonists|Oxygen therapy\"', '\"Sugar intake|Glucose gel or tablets|Glucagon (severe cases)\"', '\"Sound therapy|Cognitive-behavioral therapy|Medications (e.g., antidepressants)\"', '\"Close monitoring|Bed rest|Medications (in severe cases)\"', '\"Psychotherapy|Nutritional counseling|Medications (in some cases)\"', '\"Physical therapy|Steroids|Supportive care\"', '\"Phlebotomy (removing excess iron-rich blood)|Iron-chelating medications\"', '\"Stimulants (e.g., Modafinil)|Sodium oxybate|Lifestyle changes\"', '\"Treatment of underlying cause|Liver transplant (in severe cases)\"', '\"Testosterone replacement therapy|Fertility treatment (in some cases)\"', '\"Medications (e.g., dopamine agonists, gabapentin)|Lifestyle changes|Iron supplements (if iron-deficient)\"', '\"Corticosteroids|Immunosuppressants|Disease-modifying antirheumatic drugs (DMARDs)\"', '\"Psychotherapy|Medications (e.g., antidepressants)\"', '\"Weight loss|Dietary changes|Exercise\"', '\"Levothyroxine|Liothyronine\"', '\"Chemotherapy|Radiation therapy|Immunotherapy\"', '\"Surgery|Radiation therapy|Chemotherapy\"', '\"Pirfenidone|Nintedanib|Oxygen therapy\"', '\"Behavioral therapy|Speech therapy|Occupational therapy\"', '\"Antibiotics|Clear liquid diet|Rest\"', '\"Antibiotics (e.g., Azithromycin, Doxycycline)\"', '\"Rest|Physical therapy|Pain relief medication\"', '\"Beta-blockers|Calcium channel blockers|Implantable cardioverter-defibrillator (ICD)\"', '\"Wrist splint|Physical therapy|Steroid injections\"', '\"Gluten-free diet|Nutritional supplements (if necessary)\"', '\"Hydroxyurea|Blood transfusions|Pain management\"', '\"Diuretics (e.g., Hydrochlorothiazide)|Anti-nausea medications|Low-sodium diet\"', '\"Topical corticosteroids|Phototherapy|Immune-modulating drugs (e.g., Methotrexate)\"', '\"Anti-inflammatory drugs (e.g., Mesalamine, Corticosteroids)|Immunosuppressants|Biologics\"', '\"Oral medications (e.g., Pentosan polysulfate sodium)|Bladder instillations|Physical therapy\"', '\"Levodopa|Dopamine agonists|Anticholinergics\"', '\"Emergency medical care|Surgery (for aneurysms or AVMs)|Rehabilitation\"', '\"Behavioral therapy|Social skills training\"']\n"
     ]
    }
   ],
   "source": [
    "print(newlistmedicines)"
   ]
  },
  {
   "cell_type": "code",
   "execution_count": 205,
   "metadata": {},
   "outputs": [],
   "source": [
    "newlistdiseases=[]\n",
    "for i in range(len(d)):\n",
    "    newlistdiseases.append(d[i].strip('\\n'))"
   ]
  },
  {
   "cell_type": "code",
   "execution_count": 207,
   "metadata": {},
   "outputs": [
    {
     "name": "stdout",
     "output_type": "stream",
     "text": [
      "Migraine \"Sumatriptan|Ibuprofen|Naproxen\" \"Severe headache|Nausea|Sensitivity to light and sound|Visual disturbances (auras)|Vomiting\"\n"
     ]
    }
   ],
   "source": [
    "print(newlistdiseases[5], newlistmedicines[5], newlistsymptoms[5])"
   ]
  },
  {
   "cell_type": "code",
   "execution_count": 220,
   "metadata": {},
   "outputs": [],
   "source": [
    "newdata=open('newdata.csv', 'w')\n"
   ]
  },
  {
   "cell_type": "code",
   "execution_count": 221,
   "metadata": {},
   "outputs": [],
   "source": [
    "for i in range(107):\n",
    "    line = newlistdiseases[i]+','+newlistsymptoms[i]+','+newlistmedicines[i]+'\\n'\n",
    "    newdata.writelines(line)\n",
    "\n",
    "newdata.close()"
   ]
  },
  {
   "cell_type": "code",
   "execution_count": null,
   "metadata": {},
   "outputs": [],
   "source": []
  },
  {
   "cell_type": "code",
   "execution_count": 6,
   "metadata": {},
   "outputs": [],
   "source": [
    "import pandas as pd"
   ]
  },
  {
   "cell_type": "code",
   "execution_count": 7,
   "metadata": {},
   "outputs": [],
   "source": [
    "df = pd.read_csv('newdata.csv')"
   ]
  },
  {
   "cell_type": "code",
   "execution_count": 8,
   "metadata": {},
   "outputs": [
    {
     "data": {
      "text/html": [
       "<div>\n",
       "<style scoped>\n",
       "    .dataframe tbody tr th:only-of-type {\n",
       "        vertical-align: middle;\n",
       "    }\n",
       "\n",
       "    .dataframe tbody tr th {\n",
       "        vertical-align: top;\n",
       "    }\n",
       "\n",
       "    .dataframe thead th {\n",
       "        text-align: right;\n",
       "    }\n",
       "</style>\n",
       "<table border=\"1\" class=\"dataframe\">\n",
       "  <thead>\n",
       "    <tr style=\"text-align: right;\">\n",
       "      <th></th>\n",
       "      <th>Disease</th>\n",
       "      <th>Symptoms</th>\n",
       "      <th>Medicines</th>\n",
       "    </tr>\n",
       "  </thead>\n",
       "  <tbody>\n",
       "    <tr>\n",
       "      <th>0</th>\n",
       "      <td>Influenza</td>\n",
       "      <td>Fever|Cough|Sore throat|Fatigue|Body aches</td>\n",
       "      <td>Oseltamivir (Tamiflu)|Acetaminophen|Ibuprofen</td>\n",
       "    </tr>\n",
       "    <tr>\n",
       "      <th>1</th>\n",
       "      <td>Hypertension (High Blood Pressure)</td>\n",
       "      <td>Headaches|Dizziness|Chest pain|Shortness of br...</td>\n",
       "      <td>Lisinopril|Amlodipine|Hydrochlorothiazide</td>\n",
       "    </tr>\n",
       "    <tr>\n",
       "      <th>2</th>\n",
       "      <td>Type 2 Diabetes</td>\n",
       "      <td>Excessive thirst|Frequent urination|Fatigue|Bl...</td>\n",
       "      <td>Metformin|Insulin|Glipizide</td>\n",
       "    </tr>\n",
       "    <tr>\n",
       "      <th>3</th>\n",
       "      <td>Allergic Rhinitis (Hay Fever)</td>\n",
       "      <td>Sneezing|Runny or stuffy nose|Itchy or watery ...</td>\n",
       "      <td>Loratadine|Cetirizine|Fluticasone nasal spray</td>\n",
       "    </tr>\n",
       "    <tr>\n",
       "      <th>4</th>\n",
       "      <td>Gastroenteritis</td>\n",
       "      <td>Diarrhea|Vomiting|Abdominal pain|Nausea|Fever</td>\n",
       "      <td>Oral rehydration solution (ORS)|Loperamide|Ond...</td>\n",
       "    </tr>\n",
       "    <tr>\n",
       "      <th>...</th>\n",
       "      <td>...</td>\n",
       "      <td>...</td>\n",
       "      <td>...</td>\n",
       "    </tr>\n",
       "    <tr>\n",
       "      <th>102</th>\n",
       "      <td>Inflammatory Bowel Disease (IBD)</td>\n",
       "      <td>Abdominal pain|Diarrhea|Blood in the stool|Wei...</td>\n",
       "      <td>Anti-inflammatory drugs (e.g., Mesalamine, Cor...</td>\n",
       "    </tr>\n",
       "    <tr>\n",
       "      <th>103</th>\n",
       "      <td>Interstitial Cystitis (Painful Bladder Syndrome)</td>\n",
       "      <td>Frequent urination|Pelvic pain|Urgency|Painful...</td>\n",
       "      <td>Oral medications (e.g., Pentosan polysulfate s...</td>\n",
       "    </tr>\n",
       "    <tr>\n",
       "      <th>104</th>\n",
       "      <td>Parkinson's Disease</td>\n",
       "      <td>Tremors|Bradykinesia (slowness of movement)|Mu...</td>\n",
       "      <td>Levodopa|Dopamine agonists|Anticholinergics</td>\n",
       "    </tr>\n",
       "    <tr>\n",
       "      <th>105</th>\n",
       "      <td>Hemorrhagic Stroke</td>\n",
       "      <td>Sudden severe headache|Nausea and vomiting|Wea...</td>\n",
       "      <td>Emergency medical care|Surgery (for aneurysms ...</td>\n",
       "    </tr>\n",
       "    <tr>\n",
       "      <th>106</th>\n",
       "      <td>Asperger's Syndrome</td>\n",
       "      <td>Difficulty with social interaction|Narrow inte...</td>\n",
       "      <td>Behavioral therapy|Social skills training</td>\n",
       "    </tr>\n",
       "  </tbody>\n",
       "</table>\n",
       "<p>107 rows × 3 columns</p>\n",
       "</div>"
      ],
      "text/plain": [
       "                                              Disease  \\\n",
       "0                                           Influenza   \n",
       "1                  Hypertension (High Blood Pressure)   \n",
       "2                                     Type 2 Diabetes   \n",
       "3                       Allergic Rhinitis (Hay Fever)   \n",
       "4                                     Gastroenteritis   \n",
       "..                                                ...   \n",
       "102                  Inflammatory Bowel Disease (IBD)   \n",
       "103  Interstitial Cystitis (Painful Bladder Syndrome)   \n",
       "104                               Parkinson's Disease   \n",
       "105                                Hemorrhagic Stroke   \n",
       "106                               Asperger's Syndrome   \n",
       "\n",
       "                                              Symptoms  \\\n",
       "0           Fever|Cough|Sore throat|Fatigue|Body aches   \n",
       "1    Headaches|Dizziness|Chest pain|Shortness of br...   \n",
       "2    Excessive thirst|Frequent urination|Fatigue|Bl...   \n",
       "3    Sneezing|Runny or stuffy nose|Itchy or watery ...   \n",
       "4        Diarrhea|Vomiting|Abdominal pain|Nausea|Fever   \n",
       "..                                                 ...   \n",
       "102  Abdominal pain|Diarrhea|Blood in the stool|Wei...   \n",
       "103  Frequent urination|Pelvic pain|Urgency|Painful...   \n",
       "104  Tremors|Bradykinesia (slowness of movement)|Mu...   \n",
       "105  Sudden severe headache|Nausea and vomiting|Wea...   \n",
       "106  Difficulty with social interaction|Narrow inte...   \n",
       "\n",
       "                                             Medicines  \n",
       "0        Oseltamivir (Tamiflu)|Acetaminophen|Ibuprofen  \n",
       "1            Lisinopril|Amlodipine|Hydrochlorothiazide  \n",
       "2                          Metformin|Insulin|Glipizide  \n",
       "3        Loratadine|Cetirizine|Fluticasone nasal spray  \n",
       "4    Oral rehydration solution (ORS)|Loperamide|Ond...  \n",
       "..                                                 ...  \n",
       "102  Anti-inflammatory drugs (e.g., Mesalamine, Cor...  \n",
       "103  Oral medications (e.g., Pentosan polysulfate s...  \n",
       "104        Levodopa|Dopamine agonists|Anticholinergics  \n",
       "105  Emergency medical care|Surgery (for aneurysms ...  \n",
       "106          Behavioral therapy|Social skills training  \n",
       "\n",
       "[107 rows x 3 columns]"
      ]
     },
     "execution_count": 8,
     "metadata": {},
     "output_type": "execute_result"
    }
   ],
   "source": [
    "df"
   ]
  },
  {
   "cell_type": "code",
   "execution_count": 12,
   "metadata": {},
   "outputs": [
    {
     "data": {
      "text/plain": [
       "'Influenza'"
      ]
     },
     "execution_count": 12,
     "metadata": {},
     "output_type": "execute_result"
    }
   ],
   "source": [
    "df[df['Medicines'].str.contains('Ibuprofen')]['Disease'][0]"
   ]
  },
  {
   "cell_type": "code",
   "execution_count": 237,
   "metadata": {},
   "outputs": [],
   "source": [
    "def join(list, delimeter):\n",
    "    string=''\n",
    "    for item in list:\n",
    "        string=string+item+delimeter\n",
    "        \n",
    "    return string.strip(delimeter)"
   ]
  },
  {
   "cell_type": "code",
   "execution_count": 241,
   "metadata": {},
   "outputs": [],
   "source": [
    "diseases = join(newlistdiseases, '||')\n",
    "symptoms = join(newlistsymptoms, '||')\n",
    "medicines = join(newlistmedicines, '||')"
   ]
  },
  {
   "cell_type": "code",
   "execution_count": 242,
   "metadata": {},
   "outputs": [],
   "source": [
    "file = open('diseases.lst', 'w')\n",
    "file.writelines(diseases)\n",
    "file.close()\n",
    "file = open('symptoms.lst', 'w')\n",
    "file.writelines(symptoms)\n",
    "file.close()\n",
    "file = open('medicines.lst', 'w')\n",
    "file.writelines(medicines)\n",
    "file.close()"
   ]
  },
  {
   "cell_type": "code",
   "execution_count": 250,
   "metadata": {},
   "outputs": [
    {
     "data": {
      "text/plain": [
       "['\"Oseltamivir (Tamiflu)|Acetaminophen|Ibuprofen\"',\n",
       " '\"Lisinopril|Amlodipine|Hydrochlorothiazide\"',\n",
       " '\"Metformin|Insulin|Glipizide\"',\n",
       " '\"Loratadine|Cetirizine|Fluticasone nasal spray\"',\n",
       " '\"Oral rehydration solution (ORS)|Loperamide|Ondansetron\"',\n",
       " '\"Sumatriptan|Ibuprofen|Naproxen\"',\n",
       " '\"Antibiotics (e.g., Amoxicillin)|Acetaminophen|Oxygen therapy (in severe cases)\"',\n",
       " '\"Albuterol inhaler|Inhaled corticosteroids (e.g., Fluticasone)|Montelukast\"',\n",
       " '\"Antibiotics (e.g., Ciprofloxacin)|Phenazopyridine|Drinking plenty of water\"',\n",
       " '\"Acetaminophen|Nonsteroidal anti-inflammatory drugs (e.g., Ibuprofen)|Physical therapy\"',\n",
       " '\"Levothyroxine|Liothyronine\"',\n",
       " '\"Methotrexate|Hydroxychloroquine|Tumor necrosis factor inhibitors\"',\n",
       " '\"Rest|Fluids|Over-the-counter cold medications\"',\n",
       " '\"Antimalarial drugs (e.g., Chloroquine, Artemisinin-based combination therapy)\"',\n",
       " '\"Chemotherapy|Radiation therapy|Targeted therapy\"',\n",
       " '\"Desmopressin\"',\n",
       " '\"Anti-inflammatory drugs|Immunosuppressants\"',\n",
       " '\"Levodopa|Dopamine agonists|Anticholinergic drugs\"',\n",
       " '\"Cholinesterase inhibitors|Memantine\"',\n",
       " '\"Fasting|Intravenous fluids|Pain management\"',\n",
       " '\"Methotrexate|Hydroxychloroquine|Tumor necrosis factor inhibitors\"',\n",
       " '\"Hydroxychloroquine|Corticosteroids|Immunosuppressants\"',\n",
       " '\"Bronchodilators|Inhaled corticosteroids|Oxygen therapy\"',\n",
       " '\"Direct-acting antiviral drugs (e.g., Sofosbuvir, Ledipasvir)\"',\n",
       " '\"Vaccination|Antiviral medication (e.g., Remdesivir)|Symptomatic treatment\"',\n",
       " '\"Antiretroviral therapy (ART)|Prophylactic antibiotics\"',\n",
       " '\"Clot-dissolving drugs|Antiplatelet drugs|Rehabilitation\"',\n",
       " '\"Disease-modifying therapies (e.g., Interferon beta, Fingolimod)\"',\n",
       " '\"Pain relief medication|Fluid intake|Surgical intervention if necessary\"',\n",
       " '\"Nonsteroidal anti-inflammatory drugs (NSAIDs)|Colchicine|Uric acid-lowering medications\"',\n",
       " '\"Antiepileptic drugs (AEDs)|Ketogenic diet|Vagus nerve stimulation (VNS)\"',\n",
       " '\"Eye drops (e.g., Timolol, Dorzolamide)|Oral carbonic anhydrase inhibitors\"',\n",
       " '\"Surgery|Chemotherapy|Radiation therapy\"',\n",
       " '\"Surgery|Radiation therapy|Chemotherapy|Hormone therapy\"',\n",
       " '\"Surgery|Radiation therapy|Hormone therapy|Chemotherapy\"',\n",
       " '\"Lifestyle changes|Medications for symptoms|Liver transplant (in severe cases)\"',\n",
       " '\"Calcium and vitamin D supplements|Bisphosphonates|Hormone therapy\"',\n",
       " '\"Antiviral drugs (e.g., Entecavir, Tenofovir)|Interferon alfa\"',\n",
       " '\"Topical corticosteroids|Emollients|Antihistamines\"',\n",
       " '\"Mood stabilizers (e.g., Lithium, Valproate)|Antipsychotics|Psychotherapy\"',\n",
       " '\"Alpha blockers (e.g., Tamsulosin)|5-alpha reductase inhibitors (e.g., Finasteride)\"',\n",
       " '\"Gluten-free diet|Nutritional supplements (if necessary)\"',\n",
       " '\"Hydroxyurea|Blood transfusions|Pain management\"',\n",
       " '\"Diuretics (e.g., Hydrochlorothiazide)|Anti-nausea medications|Low-sodium diet\"',\n",
       " '\"Topical corticosteroids|Phototherapy|Immune-modulating drugs (e.g., Methotrexate)\"',\n",
       " '\"Antibiotics (e.g., Rifampicin, Isoniazid, Ethambutol)\"',\n",
       " '\"Supportive care|Vaccination (prevention)\"',\n",
       " '\"Post-exposure prophylaxis (PEP)|Rabies vaccine\"',\n",
       " '\"Surgery (appendectomy)|Antibiotics\"',\n",
       " '\"Watchful waiting|Birth control pills|Surgery (in some cases)\"',\n",
       " '\"Topical treatments (e.g., creams, ointments)|Dietary changes|Rubber band ligation\"',\n",
       " '\"Antibiotics (e.g., Metronidazole, Clindamycin)\"',\n",
       " '\"Supportive care|Prevention of waterborne transmission\"',\n",
       " '\"Pain relief medication|Hormonal therapy|Surgery (in severe cases)\"',\n",
       " '\"Surgery|Chemotherapy|Radiation therapy\"',\n",
       " '\"Treatment of the underlying cause|Medication to control symptoms\"',\n",
       " '\"Physical therapy|Pain management|Lifestyle adaptations\"',\n",
       " '\"Hormonal contraceptives|Metformin|Lifestyle changes\"',\n",
       " '\"Behavioral therapy|Medication (e.g., antipsychotics, alpha agonists)\"',\n",
       " '\"Antibiotics (e.g., Doxycycline, Amoxicillin)\"',\n",
       " '\"Immunosuppressants|Steroids|Blood pressure control\"',\n",
       " '\"Artificial tears|Saliva substitutes|Medications to reduce inflammation\"',\n",
       " '\"Supportive care|Riluzole (to slow progression)\"',\n",
       " '\"Dietary changes|Blood sugar monitoring|Insulin (if necessary)\"',\n",
       " '\"Clotting factor replacement therapy|Desmopressin\"',\n",
       " '\"Voice rest|Hydration|Lozenges\"',\n",
       " '\"Surgery (cholecystectomy)|Ursodeoxycholic acid\"',\n",
       " '\"Chemotherapy|Stem cell transplant|Targeted therapy\"',\n",
       " '\"Anticoagulants (e.g., Heparin, Warfarin)|Oxygen therapy\"',\n",
       " '\"Nutritional rehabilitation|Psychotherapy|Medications (in some cases)\"',\n",
       " '\"Immunosuppressants|Cholinesterase inhibitors|Thymectomy\"',\n",
       " '\"Surgery|Radiation therapy|Chemotherapy\"',\n",
       " '\"Antibiotics (e.g., Amoxicillin)|Pain relief medication\"',\n",
       " '\"Nonsteroidal anti-inflammatory drugs (NSAIDs)|Disease-modifying antirheumatic drugs (DMARDs)|Physical therapy\"',\n",
       " '\"Vasodilators|Endothelin receptor antagonists|Oxygen therapy\"',\n",
       " '\"Sugar intake|Glucose gel or tablets|Glucagon (severe cases)\"',\n",
       " '\"Sound therapy|Cognitive-behavioral therapy|Medications (e.g., antidepressants)\"',\n",
       " '\"Close monitoring|Bed rest|Medications (in severe cases)\"',\n",
       " '\"Psychotherapy|Nutritional counseling|Medications (in some cases)\"',\n",
       " '\"Physical therapy|Steroids|Supportive care\"',\n",
       " '\"Phlebotomy (removing excess iron-rich blood)|Iron-chelating medications\"',\n",
       " '\"Stimulants (e.g., Modafinil)|Sodium oxybate|Lifestyle changes\"',\n",
       " '\"Treatment of underlying cause|Liver transplant (in severe cases)\"',\n",
       " '\"Testosterone replacement therapy|Fertility treatment (in some cases)\"',\n",
       " '\"Medications (e.g., dopamine agonists, gabapentin)|Lifestyle changes|Iron supplements (if iron-deficient)\"',\n",
       " '\"Corticosteroids|Immunosuppressants|Disease-modifying antirheumatic drugs (DMARDs)\"',\n",
       " '\"Psychotherapy|Medications (e.g., antidepressants)\"',\n",
       " '\"Weight loss|Dietary changes|Exercise\"',\n",
       " '\"Levothyroxine|Liothyronine\"',\n",
       " '\"Chemotherapy|Radiation therapy|Immunotherapy\"',\n",
       " '\"Surgery|Radiation therapy|Chemotherapy\"',\n",
       " '\"Pirfenidone|Nintedanib|Oxygen therapy\"',\n",
       " '\"Behavioral therapy|Speech therapy|Occupational therapy\"',\n",
       " '\"Antibiotics|Clear liquid diet|Rest\"',\n",
       " '\"Antibiotics (e.g., Azithromycin, Doxycycline)\"',\n",
       " '\"Rest|Physical therapy|Pain relief medication\"',\n",
       " '\"Beta-blockers|Calcium channel blockers|Implantable cardioverter-defibrillator (ICD)\"',\n",
       " '\"Wrist splint|Physical therapy|Steroid injections\"',\n",
       " '\"Gluten-free diet|Nutritional supplements (if necessary)\"',\n",
       " '\"Hydroxyurea|Blood transfusions|Pain management\"',\n",
       " '\"Diuretics (e.g., Hydrochlorothiazide)|Anti-nausea medications|Low-sodium diet\"',\n",
       " '\"Topical corticosteroids|Phototherapy|Immune-modulating drugs (e.g., Methotrexate)\"',\n",
       " '\"Anti-inflammatory drugs (e.g., Mesalamine, Corticosteroids)|Immunosuppressants|Biologics\"',\n",
       " '\"Oral medications (e.g., Pentosan polysulfate sodium)|Bladder instillations|Physical therapy\"',\n",
       " '\"Levodopa|Dopamine agonists|Anticholinergics\"',\n",
       " '\"Emergency medical care|Surgery (for aneurysms or AVMs)|Rehabilitation\"',\n",
       " '\"Behavioral therapy|Social skills training\"']"
      ]
     },
     "execution_count": 250,
     "metadata": {},
     "output_type": "execute_result"
    }
   ],
   "source": [
    "file = open('medicines.lst', 'r')\n",
    "st = file.read()\n",
    "mlist = st.split('||')\n",
    "newlistmedicines\n",
    "# mlist"
   ]
  },
  {
   "cell_type": "code",
   "execution_count": null,
   "metadata": {},
   "outputs": [],
   "source": []
  },
  {
   "cell_type": "code",
   "execution_count": null,
   "metadata": {},
   "outputs": [],
   "source": []
  },
  {
   "cell_type": "code",
   "execution_count": 13,
   "metadata": {},
   "outputs": [
    {
     "data": {
      "text/html": [
       "<div>\n",
       "<style scoped>\n",
       "    .dataframe tbody tr th:only-of-type {\n",
       "        vertical-align: middle;\n",
       "    }\n",
       "\n",
       "    .dataframe tbody tr th {\n",
       "        vertical-align: top;\n",
       "    }\n",
       "\n",
       "    .dataframe thead th {\n",
       "        text-align: right;\n",
       "    }\n",
       "</style>\n",
       "<table border=\"1\" class=\"dataframe\">\n",
       "  <thead>\n",
       "    <tr style=\"text-align: right;\">\n",
       "      <th></th>\n",
       "      <th>Disease</th>\n",
       "      <th>Symptoms</th>\n",
       "      <th>Medicines</th>\n",
       "    </tr>\n",
       "  </thead>\n",
       "  <tbody>\n",
       "    <tr>\n",
       "      <th>0</th>\n",
       "      <td>Influenza</td>\n",
       "      <td>Fever|Cough|Sore throat|Fatigue|Body aches</td>\n",
       "      <td>Oseltamivir (Tamiflu)|Acetaminophen|Ibuprofen</td>\n",
       "    </tr>\n",
       "    <tr>\n",
       "      <th>1</th>\n",
       "      <td>Hypertension (High Blood Pressure)</td>\n",
       "      <td>Headaches|Dizziness|Chest pain|Shortness of br...</td>\n",
       "      <td>Lisinopril|Amlodipine|Hydrochlorothiazide</td>\n",
       "    </tr>\n",
       "    <tr>\n",
       "      <th>2</th>\n",
       "      <td>Type 2 Diabetes</td>\n",
       "      <td>Excessive thirst|Frequent urination|Fatigue|Bl...</td>\n",
       "      <td>Metformin|Insulin|Glipizide</td>\n",
       "    </tr>\n",
       "    <tr>\n",
       "      <th>3</th>\n",
       "      <td>Allergic Rhinitis (Hay Fever)</td>\n",
       "      <td>Sneezing|Runny or stuffy nose|Itchy or watery ...</td>\n",
       "      <td>Loratadine|Cetirizine|Fluticasone nasal spray</td>\n",
       "    </tr>\n",
       "    <tr>\n",
       "      <th>4</th>\n",
       "      <td>Gastroenteritis</td>\n",
       "      <td>Diarrhea|Vomiting|Abdominal pain|Nausea|Fever</td>\n",
       "      <td>Oral rehydration solution (ORS)|Loperamide|Ond...</td>\n",
       "    </tr>\n",
       "    <tr>\n",
       "      <th>...</th>\n",
       "      <td>...</td>\n",
       "      <td>...</td>\n",
       "      <td>...</td>\n",
       "    </tr>\n",
       "    <tr>\n",
       "      <th>102</th>\n",
       "      <td>Inflammatory Bowel Disease (IBD)</td>\n",
       "      <td>Abdominal pain|Diarrhea|Blood in the stool|Wei...</td>\n",
       "      <td>Anti-inflammatory drugs (e.g., Mesalamine, Cor...</td>\n",
       "    </tr>\n",
       "    <tr>\n",
       "      <th>103</th>\n",
       "      <td>Interstitial Cystitis (Painful Bladder Syndrome)</td>\n",
       "      <td>Frequent urination|Pelvic pain|Urgency|Painful...</td>\n",
       "      <td>Oral medications (e.g., Pentosan polysulfate s...</td>\n",
       "    </tr>\n",
       "    <tr>\n",
       "      <th>104</th>\n",
       "      <td>Parkinson's Disease</td>\n",
       "      <td>Tremors|Bradykinesia (slowness of movement)|Mu...</td>\n",
       "      <td>Levodopa|Dopamine agonists|Anticholinergics</td>\n",
       "    </tr>\n",
       "    <tr>\n",
       "      <th>105</th>\n",
       "      <td>Hemorrhagic Stroke</td>\n",
       "      <td>Sudden severe headache|Nausea and vomiting|Wea...</td>\n",
       "      <td>Emergency medical care|Surgery (for aneurysms ...</td>\n",
       "    </tr>\n",
       "    <tr>\n",
       "      <th>106</th>\n",
       "      <td>Asperger's Syndrome</td>\n",
       "      <td>Difficulty with social interaction|Narrow inte...</td>\n",
       "      <td>Behavioral therapy|Social skills training</td>\n",
       "    </tr>\n",
       "  </tbody>\n",
       "</table>\n",
       "<p>107 rows × 3 columns</p>\n",
       "</div>"
      ],
      "text/plain": [
       "                                              Disease  \\\n",
       "0                                           Influenza   \n",
       "1                  Hypertension (High Blood Pressure)   \n",
       "2                                     Type 2 Diabetes   \n",
       "3                       Allergic Rhinitis (Hay Fever)   \n",
       "4                                     Gastroenteritis   \n",
       "..                                                ...   \n",
       "102                  Inflammatory Bowel Disease (IBD)   \n",
       "103  Interstitial Cystitis (Painful Bladder Syndrome)   \n",
       "104                               Parkinson's Disease   \n",
       "105                                Hemorrhagic Stroke   \n",
       "106                               Asperger's Syndrome   \n",
       "\n",
       "                                              Symptoms  \\\n",
       "0           Fever|Cough|Sore throat|Fatigue|Body aches   \n",
       "1    Headaches|Dizziness|Chest pain|Shortness of br...   \n",
       "2    Excessive thirst|Frequent urination|Fatigue|Bl...   \n",
       "3    Sneezing|Runny or stuffy nose|Itchy or watery ...   \n",
       "4        Diarrhea|Vomiting|Abdominal pain|Nausea|Fever   \n",
       "..                                                 ...   \n",
       "102  Abdominal pain|Diarrhea|Blood in the stool|Wei...   \n",
       "103  Frequent urination|Pelvic pain|Urgency|Painful...   \n",
       "104  Tremors|Bradykinesia (slowness of movement)|Mu...   \n",
       "105  Sudden severe headache|Nausea and vomiting|Wea...   \n",
       "106  Difficulty with social interaction|Narrow inte...   \n",
       "\n",
       "                                             Medicines  \n",
       "0        Oseltamivir (Tamiflu)|Acetaminophen|Ibuprofen  \n",
       "1            Lisinopril|Amlodipine|Hydrochlorothiazide  \n",
       "2                          Metformin|Insulin|Glipizide  \n",
       "3        Loratadine|Cetirizine|Fluticasone nasal spray  \n",
       "4    Oral rehydration solution (ORS)|Loperamide|Ond...  \n",
       "..                                                 ...  \n",
       "102  Anti-inflammatory drugs (e.g., Mesalamine, Cor...  \n",
       "103  Oral medications (e.g., Pentosan polysulfate s...  \n",
       "104        Levodopa|Dopamine agonists|Anticholinergics  \n",
       "105  Emergency medical care|Surgery (for aneurysms ...  \n",
       "106          Behavioral therapy|Social skills training  \n",
       "\n",
       "[107 rows x 3 columns]"
      ]
     },
     "execution_count": 13,
     "metadata": {},
     "output_type": "execute_result"
    }
   ],
   "source": [
    "df"
   ]
  },
  {
   "cell_type": "code",
   "execution_count": null,
   "metadata": {},
   "outputs": [],
   "source": []
  }
 ],
 "metadata": {
  "kernelspec": {
   "display_name": "Python 3",
   "language": "python",
   "name": "python3"
  },
  "language_info": {
   "codemirror_mode": {
    "name": "ipython",
    "version": 3
   },
   "file_extension": ".py",
   "mimetype": "text/x-python",
   "name": "python",
   "nbconvert_exporter": "python",
   "pygments_lexer": "ipython3",
   "version": "3.10.12"
  }
 },
 "nbformat": 4,
 "nbformat_minor": 2
}
